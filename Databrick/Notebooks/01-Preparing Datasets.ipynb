{
 "cells": [
  {
   "cell_type": "code",
   "execution_count": 0,
   "metadata": {
    "application/vnd.databricks.v1+cell": {
     "cellMetadata": {
      "byteLimit": 2048000,
      "rowLimit": 10000
     },
     "inputWidgets": {},
     "nuid": "9eb11ca5-bfc0-4fa9-b861-3af1d7225b83",
     "showTitle": false,
     "tableResultSettingsMap": {},
     "title": ""
    }
   },
   "outputs": [],
   "source": [
    "from pyspark.sql.functions import *\n",
    "from pyspark.sql.types import *"
   ]
  },
  {
   "cell_type": "code",
   "execution_count": 0,
   "metadata": {
    "application/vnd.databricks.v1+cell": {
     "cellMetadata": {
      "byteLimit": 2048000,
      "rowLimit": 10000
     },
     "inputWidgets": {},
     "nuid": "ea32fb6b-35fa-4a70-9e17-0714c51caca5",
     "showTitle": false,
     "tableResultSettingsMap": {},
     "title": ""
    }
   },
   "outputs": [],
   "source": [
    "df = (  \n",
    "    spark.read.format(\"csv\")\n",
    "        .option(\"header\", \"true\")\n",
    "        .option(\"inferSchema\", \"true\")\n",
    "        .load(\"/Volumes/practice_catalog/practice_schema/datasets/flight_data/airlines_flights_data.csv\")\n",
    ")"
   ]
  },
  {
   "cell_type": "code",
   "execution_count": 0,
   "metadata": {
    "application/vnd.databricks.v1+cell": {
     "cellMetadata": {
      "byteLimit": 2048000,
      "rowLimit": 10000
     },
     "inputWidgets": {},
     "nuid": "9b6bd8c1-b0ba-42bb-9e1d-81517a752124",
     "showTitle": false,
     "tableResultSettingsMap": {},
     "title": ""
    }
   },
   "outputs": [
    {
     "output_type": "execute_result",
     "data": {
      "text/plain": [
       "300153"
      ]
     },
     "execution_count": 7,
     "metadata": {},
     "output_type": "execute_result"
    }
   ],
   "source": [
    "df.count()"
   ]
  },
  {
   "cell_type": "code",
   "execution_count": 0,
   "metadata": {
    "application/vnd.databricks.v1+cell": {
     "cellMetadata": {
      "byteLimit": 2048000,
      "rowLimit": 10000
     },
     "inputWidgets": {},
     "nuid": "0006239a-bbcc-4b35-bbba-96a95160de4b",
     "showTitle": false,
     "tableResultSettingsMap": {},
     "title": ""
    }
   },
   "outputs": [],
   "source": [
    "df_first_1000records = df.filter(col(\"id\").between(0,1000))\n",
    "(\n",
    "    df_first_1000records.coalesce(1).write.format(\"parquet\").mode(\"append\")\n",
    "        .save(\"/Volumes/practice_catalog/practice_schema/datasets/flight_data/distributed_data/flight_data_01.parquet\")\n",
    ")"
   ]
  },
  {
   "cell_type": "code",
   "execution_count": 0,
   "metadata": {
    "application/vnd.databricks.v1+cell": {
     "cellMetadata": {
      "byteLimit": 2048000,
      "rowLimit": 10000
     },
     "inputWidgets": {},
     "nuid": "515fbc74-0b51-41c8-9972-70353b49acc6",
     "showTitle": false,
     "tableResultSettingsMap": {},
     "title": ""
    }
   },
   "outputs": [],
   "source": [
    "df_first_1000records = df.filter(col(\"id\").between(1001,2000))\n",
    "(\n",
    "    df_first_1000records.coalesce(1).write.format(\"parquet\").mode(\"overwrite\")\n",
    "        .save(\"/Volumes/practice_catalog/practice_schema/datasets/flight_data/distributed_data/flight_data_01.parquet\")\n",
    ")"
   ]
  },
  {
   "cell_type": "code",
   "execution_count": 0,
   "metadata": {
    "application/vnd.databricks.v1+cell": {
     "cellMetadata": {
      "byteLimit": 2048000,
      "rowLimit": 10000
     },
     "inputWidgets": {},
     "nuid": "e858183e-2ccc-464d-a79c-6a74cae7b578",
     "showTitle": false,
     "tableResultSettingsMap": {},
     "title": ""
    }
   },
   "outputs": [],
   "source": [
    "df_first_1000records = df.filter(col(\"id\").between(2001,150000))\n",
    "(\n",
    "    df_first_1000records.coalesce(1).write.format(\"parquet\").mode(\"overwrite\")\n",
    "        .save(\"/Volumes/practice_catalog/practice_schema/datasets/flight_data/distributed_data/flight_data_01.parquet\")\n",
    ")"
   ]
  },
  {
   "cell_type": "code",
   "execution_count": 0,
   "metadata": {
    "application/vnd.databricks.v1+cell": {
     "cellMetadata": {
      "byteLimit": 2048000,
      "rowLimit": 10000
     },
     "inputWidgets": {},
     "nuid": "4e785d6a-0d18-4032-bbc2-431f7490e4c3",
     "showTitle": false,
     "tableResultSettingsMap": {},
     "title": ""
    }
   },
   "outputs": [
    {
     "output_type": "stream",
     "name": "stdout",
     "output_type": "stream",
     "text": [
      "+----+---------+-------+-----------+--------------+-----------+------------+----------------+-------+--------+---------+-----+\n|  id|  airline| flight|source_city|departure_time|      stops|arrival_time|destination_city|  class|duration|days_left|price|\n+----+---------+-------+-----------+--------------+-----------+------------+----------------+-------+--------+---------+-----+\n|2001| GO_FIRST|G8-2401|      Delhi|       Morning|        one|     Evening|          Mumbai|Economy|     8.0|       12|11179|\n|2002| GO_FIRST|G8-2403|      Delhi|       Morning|        one|     Evening|          Mumbai|Economy|     8.0|       12|11179|\n|2003| GO_FIRST| G8-357|      Delhi| Early_Morning|two_or_more|     Evening|          Mumbai|Economy|   12.08|       12|11295|\n|2004|Air_India| AI-411|      Delhi| Early_Morning|        one|   Afternoon|          Mumbai|Economy|     8.0|       12|11310|\n|2005| GO_FIRST| G8-209|      Delhi| Early_Morning|two_or_more|     Evening|          Mumbai|Economy|   10.58|       12|11311|\n+----+---------+-------+-----------+--------------+-----------+------------+----------------+-------+--------+---------+-----+\nonly showing top 5 rows\n"
     ]
    }
   ],
   "source": [
    "df_read_final = spark.read.format('parquet').load('/Volumes/practice_catalog/practice_schema/datasets/flight_data/*.parquet')\n",
    "df_read_final.show(5)"
   ]
  },
  {
   "cell_type": "code",
   "execution_count": 0,
   "metadata": {
    "application/vnd.databricks.v1+cell": {
     "cellMetadata": {
      "byteLimit": 2048000,
      "rowLimit": 10000
     },
     "inputWidgets": {},
     "nuid": "582b685a-fcf0-4182-9cef-9907e563aaa6",
     "showTitle": false,
     "tableResultSettingsMap": {},
     "title": ""
    }
   },
   "outputs": [
    {
     "output_type": "execute_result",
     "data": {
      "text/plain": [
       "150001"
      ]
     },
     "execution_count": 29,
     "metadata": {},
     "output_type": "execute_result"
    }
   ],
   "source": [
    "df_read_final.count()"
   ]
  },
  {
   "cell_type": "code",
   "execution_count": 0,
   "metadata": {
    "application/vnd.databricks.v1+cell": {
     "cellMetadata": {
      "byteLimit": 2048000,
      "implicitDf": true,
      "rowLimit": 10000
     },
     "inputWidgets": {},
     "nuid": "6c5fcf44-73f0-43ad-88ad-805d45be9e78",
     "showTitle": false,
     "tableResultSettingsMap": {},
     "title": ""
    }
   },
   "outputs": [
    {
     "output_type": "display_data",
     "data": {
      "text/html": [
       "<style scoped>\n",
       "  .table-result-container {\n",
       "    max-height: 300px;\n",
       "    overflow: auto;\n",
       "  }\n",
       "  table, th, td {\n",
       "    border: 1px solid black;\n",
       "    border-collapse: collapse;\n",
       "  }\n",
       "  th, td {\n",
       "    padding: 5px;\n",
       "  }\n",
       "  th {\n",
       "    text-align: left;\n",
       "  }\n",
       "</style><div class='table-result-container'><table class='table-result'><thead style='background-color: white'><tr><th>min(id)</th><th>max(id)</th></tr></thead><tbody><tr><td>0</td><td>150000</td></tr></tbody></table></div>"
      ]
     },
     "metadata": {
      "application/vnd.databricks.v1+output": {
       "addedWidgets": {},
       "aggData": [],
       "aggError": "",
       "aggOverflow": false,
       "aggSchema": [],
       "aggSeriesLimitReached": false,
       "aggType": "",
       "arguments": {},
       "columnCustomDisplayInfos": {},
       "data": [
        [
         0,
         150000
        ]
       ],
       "datasetInfos": [
        {
         "name": "_sqldf",
         "schema": {
          "fields": [
           {
            "metadata": {},
            "name": "min(id)",
            "nullable": true,
            "type": "integer"
           },
           {
            "metadata": {},
            "name": "max(id)",
            "nullable": true,
            "type": "integer"
           }
          ],
          "type": "struct"
         },
         "tableIdentifier": null,
         "typeStr": "pyspark.sql.connect.dataframe.DataFrame"
        }
       ],
       "dbfsResultPath": null,
       "isJsonSchema": true,
       "metadata": {
        "createTempViewForImplicitDf": true,
        "dataframeName": "_sqldf",
        "executionCount": 31
       },
       "overflow": false,
       "plotOptions": {
        "customPlotOptions": {},
        "displayType": "table",
        "pivotAggregation": null,
        "pivotColumns": null,
        "xColumns": null,
        "yColumns": null
       },
       "removedWidgets": [],
       "schema": [
        {
         "metadata": "{}",
         "name": "min(id)",
         "type": "\"integer\""
        },
        {
         "metadata": "{}",
         "name": "max(id)",
         "type": "\"integer\""
        }
       ],
       "type": "table"
      }
     },
     "output_type": "display_data"
    }
   ],
   "source": [
    "%sql\n",
    "\n",
    "Select min(id), max(id) \n",
    "from parquet.`/Volumes/practice_catalog/practice_schema/datasets/flight_data/`"
   ]
  }
 ],
 "metadata": {
  "application/vnd.databricks.v1+notebook": {
   "computePreferences": {
    "hardware": {
     "accelerator": null,
     "gpuPoolId": null,
     "memory": null
    }
   },
   "dashboards": [],
   "environmentMetadata": {
    "base_environment": "",
    "environment_version": "3"
   },
   "inputWidgetPreferences": null,
   "language": "python",
   "notebookMetadata": {
    "mostRecentlyExecutedCommandWithImplicitDF": {
     "commandId": 8081811637856229,
     "dataframes": [
      "_sqldf"
     ]
    },
    "pythonIndentUnit": 4
   },
   "notebookName": "01-Preparing Datasets",
   "widgets": {}
  },
  "language_info": {
   "name": "python"
  }
 },
 "nbformat": 4,
 "nbformat_minor": 0
}